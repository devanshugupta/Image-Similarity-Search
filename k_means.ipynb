{
 "cells": [
  {
   "cell_type": "code",
   "execution_count": 8,
   "metadata": {
    "colab": {
     "base_uri": "https://localhost:8080/"
    },
    "executionInfo": {
     "elapsed": 311,
     "status": "ok",
     "timestamp": 1697147215679,
     "user": {
      "displayName": "Vikas Kamineni",
      "userId": "12848707604258620992"
     },
     "user_tz": 420
    },
    "id": "W_CfzXME929C",
    "outputId": "9bd5182b-c8cb-419b-9b23-aede74802db5"
   },
   "outputs": [
    {
     "name": "stdout",
     "output_type": "stream",
     "text": [
      "Overwriting k_means.py\n"
     ]
    }
   ],
   "source": [
    "%%writefile k_means.py\n",
    "import numpy as np\n",
    "\n",
    "class KMeansFromScratch:\n",
    "    def __init__(self, n_clusters, max_iterations=100, min_improvement=1e-4):\n",
    "        self.n_clusters = n_clusters\n",
    "        self.max_iterations = max_iterations\n",
    "        self.min_improvement = min_improvement\n",
    "        self.centroids = None\n",
    "\n",
    "    def fit(self, X):\n",
    "        self.centroids = X[np.random.choice(X.shape[0], self.n_clusters, replace=False)]\n",
    "\n",
    "        for _ in range(self.max_iterations):\n",
    "            # Calculate distances to centroids\n",
    "            distances = np.linalg.norm(X[:, np.newaxis] - self.centroids, axis=2)\n",
    "\n",
    "            # Assign each data point to the nearest centroid\n",
    "            labels = np.argmin(distances, axis=1)\n",
    "\n",
    "            # Update centroids\n",
    "            new_centroids = np.array([X[labels == j].mean(axis=0) for j in range(self.n_clusters)])\n",
    "\n",
    "            # Check for convergence\n",
    "            improvement = np.linalg.norm(new_centroids - self.centroids)\n",
    "            if improvement < self.min_improvement:\n",
    "                break\n",
    "\n",
    "            self.centroids = new_centroids\n",
    "\n",
    "        return self\n",
    "\n",
    "    def transform(self, X):\n",
    "        distances = np.linalg.norm(X[:, np.newaxis] - self.centroids, axis=2)\n",
    "        return distances\n",
    "\n",
    "    def get_centroids(self):\n",
    "        return self.centroids\n",
    "\n",
    "    def fit_transform(self, X):\n",
    "        self.fit(X)\n",
    "        return self.transform(X)\n"
   ]
  },
  {
   "cell_type": "code",
   "execution_count": null,
   "metadata": {
    "id": "clQA23yv1La5"
   },
   "outputs": [],
   "source": []
  }
 ],
 "metadata": {
  "colab": {
   "provenance": []
  },
  "kernelspec": {
   "display_name": "Python 3 (ipykernel)",
   "language": "python",
   "name": "python3"
  },
  "language_info": {
   "codemirror_mode": {
    "name": "ipython",
    "version": 3
   },
   "file_extension": ".py",
   "mimetype": "text/x-python",
   "name": "python",
   "nbconvert_exporter": "python",
   "pygments_lexer": "ipython3",
   "version": "3.9.13"
  }
 },
 "nbformat": 4,
 "nbformat_minor": 4
}
